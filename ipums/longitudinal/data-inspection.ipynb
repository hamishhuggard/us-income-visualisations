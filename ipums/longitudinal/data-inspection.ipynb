{
 "cells": [
  {
   "cell_type": "code",
   "execution_count": 1,
   "id": "stuck-tuner",
   "metadata": {},
   "outputs": [
    {
     "data": {
      "text/html": [
       "<div>\n",
       "<style scoped>\n",
       "    .dataframe tbody tr th:only-of-type {\n",
       "        vertical-align: middle;\n",
       "    }\n",
       "\n",
       "    .dataframe tbody tr th {\n",
       "        vertical-align: top;\n",
       "    }\n",
       "\n",
       "    .dataframe thead th {\n",
       "        text-align: right;\n",
       "    }\n",
       "</style>\n",
       "<table border=\"1\" class=\"dataframe\">\n",
       "  <thead>\n",
       "    <tr style=\"text-align: right;\">\n",
       "      <th></th>\n",
       "      <th>Unnamed: 0</th>\n",
       "      <th>YEAR_1</th>\n",
       "      <th>YEAR_2</th>\n",
       "      <th>SERIAL_1</th>\n",
       "      <th>SERIAL_2</th>\n",
       "      <th>MONTH_1</th>\n",
       "      <th>MONTH_2</th>\n",
       "      <th>CPSID</th>\n",
       "      <th>ASECFLAG_1</th>\n",
       "      <th>ASECFLAG_2</th>\n",
       "      <th>...</th>\n",
       "      <th>CPSIDV_1</th>\n",
       "      <th>CPSIDV_2</th>\n",
       "      <th>ASECWT_1</th>\n",
       "      <th>ASECWT_2</th>\n",
       "      <th>SEX_1</th>\n",
       "      <th>SEX_2</th>\n",
       "      <th>FTOTVAL_1</th>\n",
       "      <th>FTOTVAL_2</th>\n",
       "      <th>INCTOT_1</th>\n",
       "      <th>INCTOT_2</th>\n",
       "    </tr>\n",
       "  </thead>\n",
       "  <tbody>\n",
       "    <tr>\n",
       "      <th>0</th>\n",
       "      <td>1</td>\n",
       "      <td>1978</td>\n",
       "      <td>1979</td>\n",
       "      <td>27958</td>\n",
       "      <td>28369</td>\n",
       "      <td>3</td>\n",
       "      <td>3</td>\n",
       "      <td>1.977120e+13</td>\n",
       "      <td>1</td>\n",
       "      <td>1</td>\n",
       "      <td>...</td>\n",
       "      <td>197712000007011</td>\n",
       "      <td>197712000007011</td>\n",
       "      <td>2228.96</td>\n",
       "      <td>2017.71</td>\n",
       "      <td>2</td>\n",
       "      <td>2</td>\n",
       "      <td>3557.0</td>\n",
       "      <td>3654.0</td>\n",
       "      <td>3557.0</td>\n",
       "      <td>3654.0</td>\n",
       "    </tr>\n",
       "    <tr>\n",
       "      <th>1</th>\n",
       "      <td>2</td>\n",
       "      <td>1978</td>\n",
       "      <td>1979</td>\n",
       "      <td>42677</td>\n",
       "      <td>42478</td>\n",
       "      <td>3</td>\n",
       "      <td>3</td>\n",
       "      <td>1.977120e+13</td>\n",
       "      <td>1</td>\n",
       "      <td>1</td>\n",
       "      <td>...</td>\n",
       "      <td>197712000021011</td>\n",
       "      <td>197712000021012</td>\n",
       "      <td>1687.36</td>\n",
       "      <td>1869.09</td>\n",
       "      <td>2</td>\n",
       "      <td>1</td>\n",
       "      <td>7600.0</td>\n",
       "      <td>48800.0</td>\n",
       "      <td>7600.0</td>\n",
       "      <td>48800.0</td>\n",
       "    </tr>\n",
       "    <tr>\n",
       "      <th>2</th>\n",
       "      <td>3</td>\n",
       "      <td>1978</td>\n",
       "      <td>1979</td>\n",
       "      <td>31931</td>\n",
       "      <td>31810</td>\n",
       "      <td>3</td>\n",
       "      <td>3</td>\n",
       "      <td>1.977120e+13</td>\n",
       "      <td>1</td>\n",
       "      <td>1</td>\n",
       "      <td>...</td>\n",
       "      <td>197712000025012</td>\n",
       "      <td>197712000025012</td>\n",
       "      <td>500.71</td>\n",
       "      <td>493.78</td>\n",
       "      <td>2</td>\n",
       "      <td>2</td>\n",
       "      <td>12000.0</td>\n",
       "      <td>12007.0</td>\n",
       "      <td>0.0</td>\n",
       "      <td>0.0</td>\n",
       "    </tr>\n",
       "    <tr>\n",
       "      <th>3</th>\n",
       "      <td>4</td>\n",
       "      <td>1978</td>\n",
       "      <td>1979</td>\n",
       "      <td>65493</td>\n",
       "      <td>65722</td>\n",
       "      <td>3</td>\n",
       "      <td>3</td>\n",
       "      <td>1.977120e+13</td>\n",
       "      <td>1</td>\n",
       "      <td>1</td>\n",
       "      <td>...</td>\n",
       "      <td>197712000030011</td>\n",
       "      <td>197712000030011</td>\n",
       "      <td>2043.88</td>\n",
       "      <td>2125.11</td>\n",
       "      <td>2</td>\n",
       "      <td>2</td>\n",
       "      <td>26000.0</td>\n",
       "      <td>22700.0</td>\n",
       "      <td>17000.0</td>\n",
       "      <td>19560.0</td>\n",
       "    </tr>\n",
       "    <tr>\n",
       "      <th>4</th>\n",
       "      <td>5</td>\n",
       "      <td>1978</td>\n",
       "      <td>1979</td>\n",
       "      <td>65493</td>\n",
       "      <td>65722</td>\n",
       "      <td>3</td>\n",
       "      <td>3</td>\n",
       "      <td>1.977120e+13</td>\n",
       "      <td>1</td>\n",
       "      <td>1</td>\n",
       "      <td>...</td>\n",
       "      <td>197712000030031</td>\n",
       "      <td>197712000030032</td>\n",
       "      <td>2103.29</td>\n",
       "      <td>2107.84</td>\n",
       "      <td>2</td>\n",
       "      <td>2</td>\n",
       "      <td>26000.0</td>\n",
       "      <td>22700.0</td>\n",
       "      <td>3000.0</td>\n",
       "      <td>3140.0</td>\n",
       "    </tr>\n",
       "    <tr>\n",
       "      <th>...</th>\n",
       "      <td>...</td>\n",
       "      <td>...</td>\n",
       "      <td>...</td>\n",
       "      <td>...</td>\n",
       "      <td>...</td>\n",
       "      <td>...</td>\n",
       "      <td>...</td>\n",
       "      <td>...</td>\n",
       "      <td>...</td>\n",
       "      <td>...</td>\n",
       "      <td>...</td>\n",
       "      <td>...</td>\n",
       "      <td>...</td>\n",
       "      <td>...</td>\n",
       "      <td>...</td>\n",
       "      <td>...</td>\n",
       "      <td>...</td>\n",
       "      <td>...</td>\n",
       "      <td>...</td>\n",
       "      <td>...</td>\n",
       "      <td>...</td>\n",
       "    </tr>\n",
       "    <tr>\n",
       "      <th>2094321</th>\n",
       "      <td>2094322</td>\n",
       "      <td>2022</td>\n",
       "      <td>2023</td>\n",
       "      <td>69236</td>\n",
       "      <td>69040</td>\n",
       "      <td>3</td>\n",
       "      <td>3</td>\n",
       "      <td>2.022031e+13</td>\n",
       "      <td>1</td>\n",
       "      <td>1</td>\n",
       "      <td>...</td>\n",
       "      <td>202203068517021</td>\n",
       "      <td>202203068517021</td>\n",
       "      <td>337.98</td>\n",
       "      <td>270.51</td>\n",
       "      <td>1</td>\n",
       "      <td>1</td>\n",
       "      <td>126797.0</td>\n",
       "      <td>105841.0</td>\n",
       "      <td>44340.0</td>\n",
       "      <td>28920.0</td>\n",
       "    </tr>\n",
       "    <tr>\n",
       "      <th>2094322</th>\n",
       "      <td>2094323</td>\n",
       "      <td>2022</td>\n",
       "      <td>2023</td>\n",
       "      <td>69236</td>\n",
       "      <td>69040</td>\n",
       "      <td>3</td>\n",
       "      <td>3</td>\n",
       "      <td>2.022031e+13</td>\n",
       "      <td>1</td>\n",
       "      <td>1</td>\n",
       "      <td>...</td>\n",
       "      <td>202203068517031</td>\n",
       "      <td>202203068517031</td>\n",
       "      <td>345.29</td>\n",
       "      <td>495.73</td>\n",
       "      <td>1</td>\n",
       "      <td>1</td>\n",
       "      <td>126797.0</td>\n",
       "      <td>105841.0</td>\n",
       "      <td>30000.0</td>\n",
       "      <td>25000.0</td>\n",
       "    </tr>\n",
       "    <tr>\n",
       "      <th>2094323</th>\n",
       "      <td>2094324</td>\n",
       "      <td>2022</td>\n",
       "      <td>2023</td>\n",
       "      <td>69319</td>\n",
       "      <td>69066</td>\n",
       "      <td>3</td>\n",
       "      <td>3</td>\n",
       "      <td>2.022031e+13</td>\n",
       "      <td>1</td>\n",
       "      <td>1</td>\n",
       "      <td>...</td>\n",
       "      <td>202203068527011</td>\n",
       "      <td>202203068527011</td>\n",
       "      <td>357.69</td>\n",
       "      <td>148.64</td>\n",
       "      <td>2</td>\n",
       "      <td>2</td>\n",
       "      <td>34402.0</td>\n",
       "      <td>5000.0</td>\n",
       "      <td>24402.0</td>\n",
       "      <td>5000.0</td>\n",
       "    </tr>\n",
       "    <tr>\n",
       "      <th>2094324</th>\n",
       "      <td>2094325</td>\n",
       "      <td>2022</td>\n",
       "      <td>2023</td>\n",
       "      <td>69319</td>\n",
       "      <td>69066</td>\n",
       "      <td>3</td>\n",
       "      <td>3</td>\n",
       "      <td>2.022031e+13</td>\n",
       "      <td>1</td>\n",
       "      <td>1</td>\n",
       "      <td>...</td>\n",
       "      <td>202203068527021</td>\n",
       "      <td>202203068527021</td>\n",
       "      <td>281.26</td>\n",
       "      <td>135.90</td>\n",
       "      <td>1</td>\n",
       "      <td>1</td>\n",
       "      <td>34402.0</td>\n",
       "      <td>5000.0</td>\n",
       "      <td>999999999.0</td>\n",
       "      <td>999999999.0</td>\n",
       "    </tr>\n",
       "    <tr>\n",
       "      <th>2094325</th>\n",
       "      <td>2094326</td>\n",
       "      <td>2022</td>\n",
       "      <td>2023</td>\n",
       "      <td>69319</td>\n",
       "      <td>69066</td>\n",
       "      <td>3</td>\n",
       "      <td>3</td>\n",
       "      <td>2.022031e+13</td>\n",
       "      <td>1</td>\n",
       "      <td>1</td>\n",
       "      <td>...</td>\n",
       "      <td>202203068527031</td>\n",
       "      <td>202203068527031</td>\n",
       "      <td>380.22</td>\n",
       "      <td>159.16</td>\n",
       "      <td>1</td>\n",
       "      <td>1</td>\n",
       "      <td>34402.0</td>\n",
       "      <td>5000.0</td>\n",
       "      <td>10000.0</td>\n",
       "      <td>0.0</td>\n",
       "    </tr>\n",
       "  </tbody>\n",
       "</table>\n",
       "<p>2094326 rows × 29 columns</p>\n",
       "</div>"
      ],
      "text/plain": [
       "         Unnamed: 0  YEAR_1  YEAR_2  SERIAL_1  SERIAL_2  MONTH_1  MONTH_2  \\\n",
       "0                 1    1978    1979     27958     28369        3        3   \n",
       "1                 2    1978    1979     42677     42478        3        3   \n",
       "2                 3    1978    1979     31931     31810        3        3   \n",
       "3                 4    1978    1979     65493     65722        3        3   \n",
       "4                 5    1978    1979     65493     65722        3        3   \n",
       "...             ...     ...     ...       ...       ...      ...      ...   \n",
       "2094321     2094322    2022    2023     69236     69040        3        3   \n",
       "2094322     2094323    2022    2023     69236     69040        3        3   \n",
       "2094323     2094324    2022    2023     69319     69066        3        3   \n",
       "2094324     2094325    2022    2023     69319     69066        3        3   \n",
       "2094325     2094326    2022    2023     69319     69066        3        3   \n",
       "\n",
       "                CPSID  ASECFLAG_1  ASECFLAG_2  ...         CPSIDV_1  \\\n",
       "0        1.977120e+13           1           1  ...  197712000007011   \n",
       "1        1.977120e+13           1           1  ...  197712000021011   \n",
       "2        1.977120e+13           1           1  ...  197712000025012   \n",
       "3        1.977120e+13           1           1  ...  197712000030011   \n",
       "4        1.977120e+13           1           1  ...  197712000030031   \n",
       "...               ...         ...         ...  ...              ...   \n",
       "2094321  2.022031e+13           1           1  ...  202203068517021   \n",
       "2094322  2.022031e+13           1           1  ...  202203068517031   \n",
       "2094323  2.022031e+13           1           1  ...  202203068527011   \n",
       "2094324  2.022031e+13           1           1  ...  202203068527021   \n",
       "2094325  2.022031e+13           1           1  ...  202203068527031   \n",
       "\n",
       "                CPSIDV_2  ASECWT_1  ASECWT_2  SEX_1  SEX_2  FTOTVAL_1  \\\n",
       "0        197712000007011   2228.96   2017.71      2      2     3557.0   \n",
       "1        197712000021012   1687.36   1869.09      2      1     7600.0   \n",
       "2        197712000025012    500.71    493.78      2      2    12000.0   \n",
       "3        197712000030011   2043.88   2125.11      2      2    26000.0   \n",
       "4        197712000030032   2103.29   2107.84      2      2    26000.0   \n",
       "...                  ...       ...       ...    ...    ...        ...   \n",
       "2094321  202203068517021    337.98    270.51      1      1   126797.0   \n",
       "2094322  202203068517031    345.29    495.73      1      1   126797.0   \n",
       "2094323  202203068527011    357.69    148.64      2      2    34402.0   \n",
       "2094324  202203068527021    281.26    135.90      1      1    34402.0   \n",
       "2094325  202203068527031    380.22    159.16      1      1    34402.0   \n",
       "\n",
       "         FTOTVAL_2     INCTOT_1     INCTOT_2  \n",
       "0           3654.0       3557.0       3654.0  \n",
       "1          48800.0       7600.0      48800.0  \n",
       "2          12007.0          0.0          0.0  \n",
       "3          22700.0      17000.0      19560.0  \n",
       "4          22700.0       3000.0       3140.0  \n",
       "...            ...          ...          ...  \n",
       "2094321   105841.0      44340.0      28920.0  \n",
       "2094322   105841.0      30000.0      25000.0  \n",
       "2094323     5000.0      24402.0       5000.0  \n",
       "2094324     5000.0  999999999.0  999999999.0  \n",
       "2094325     5000.0      10000.0          0.0  \n",
       "\n",
       "[2094326 rows x 29 columns]"
      ]
     },
     "execution_count": 1,
     "metadata": {},
     "output_type": "execute_result"
    }
   ],
   "source": [
    "import pandas\n",
    "import matplotlib.pyplot as plt\n",
    "from matplotlib.animation import FuncAnimation\n",
    "from IPython.display import Image\n",
    "import numpy as np\n",
    "\n",
    "plt.style.use('ggplot')\n",
    "\n",
    "data = pandas.read_csv('data/data.csv')\n",
    "data"
   ]
  },
  {
   "cell_type": "code",
   "execution_count": 3,
   "id": "straight-constant",
   "metadata": {},
   "outputs": [
    {
     "data": {
      "text/plain": [
       "Index(['Unnamed: 0', 'YEAR_1', 'YEAR_2', 'SERIAL_1', 'SERIAL_2', 'MONTH_1',\n",
       "       'MONTH_2', 'CPSID', 'ASECFLAG_1', 'ASECFLAG_2', 'HFLAG_1', 'HFLAG_2',\n",
       "       'ASECWTH_1', 'ASECWTH_2', 'HHINCOME_1', 'HHINCOME_2', 'PERNUM_1',\n",
       "       'PERNUM_2', 'CPSIDP', 'CPSIDV_1', 'CPSIDV_2', 'ASECWT_1', 'ASECWT_2',\n",
       "       'SEX_1', 'SEX_2', 'FTOTVAL_1', 'FTOTVAL_2', 'INCTOT_1', 'INCTOT_2'],\n",
       "      dtype='object')"
      ]
     },
     "execution_count": 3,
     "metadata": {},
     "output_type": "execute_result"
    }
   ],
   "source": [
    "data.columns"
   ]
  },
  {
   "cell_type": "code",
   "execution_count": 25,
   "id": "curious-uncle",
   "metadata": {},
   "outputs": [
    {
     "data": {
      "text/plain": [
       "0          2\n",
       "1          2\n",
       "2          2\n",
       "3          2\n",
       "4          2\n",
       "          ..\n",
       "2094321    1\n",
       "2094322    1\n",
       "2094323    2\n",
       "2094324    1\n",
       "2094325    1\n",
       "Name: SEX_1, Length: 2094326, dtype: int64"
      ]
     },
     "execution_count": 25,
     "metadata": {},
     "output_type": "execute_result"
    }
   ],
   "source": [
    "data['SEX_1']"
   ]
  },
  {
   "cell_type": "code",
   "execution_count": 26,
   "id": "anticipated-atlantic",
   "metadata": {},
   "outputs": [
    {
     "name": "stdout",
     "output_type": "stream",
     "text": [
      "SEX_2          1          2\n",
      "SEX_1                      \n",
      "1      47.310686   0.555883\n",
      "2       0.565862  51.567569\n"
     ]
    }
   ],
   "source": [
    "# Create a cross-tabulation table\n",
    "cross_tab = pd.crosstab(data['SEX_1'], data['SEX_2'])\n",
    "\n",
    "# Convert the counts to percentages\n",
    "cross_tab_percentage = cross_tab / cross_tab.sum().sum() * 100\n",
    "\n",
    "# Print the percentage table\n",
    "print(cross_tab_percentage)\n"
   ]
  },
  {
   "cell_type": "raw",
   "id": "wrapped-story",
   "metadata": {},
   "source": [
    "YEAR_2 is always one greater than YEAR_1"
   ]
  },
  {
   "cell_type": "code",
   "execution_count": 27,
   "id": "weighted-inspiration",
   "metadata": {},
   "outputs": [
    {
     "data": {
      "text/plain": [
       "-1    2094326\n",
       "dtype: int64"
      ]
     },
     "execution_count": 27,
     "metadata": {},
     "output_type": "execute_result"
    }
   ],
   "source": [
    "(data['YEAR_1'] - data['YEAR_2']).value_counts()"
   ]
  },
  {
   "cell_type": "code",
   "execution_count": null,
   "id": "spoken-circle",
   "metadata": {},
   "outputs": [],
   "source": []
  },
  {
   "cell_type": "code",
   "execution_count": null,
   "id": "detected-windows",
   "metadata": {},
   "outputs": [],
   "source": []
  },
  {
   "cell_type": "code",
   "execution_count": 23,
   "id": "floral-insert",
   "metadata": {},
   "outputs": [
    {
     "data": {
      "text/plain": [
       "<AxesSubplot:>"
      ]
     },
     "execution_count": 23,
     "metadata": {},
     "output_type": "execute_result"
    },
    {
     "data": {
      "image/png": "[encoded data removed]",
      "text/plain": [
       "<Figure size 432x288 with 1 Axes>"
      ]
     },
     "metadata": {},
     "output_type": "display_data"
    }
   ],
   "source": [
    "data['HHINCOME_2'].head(10000).hist(bins=50)"
   ]
  },
  {
   "cell_type": "code",
   "execution_count": 24,
   "id": "frank-grave",
   "metadata": {},
   "outputs": [
    {
     "data": {
      "text/plain": [
       "<AxesSubplot:>"
      ]
     },
     "execution_count": 24,
     "metadata": {},
     "output_type": "execute_result"
    },
    {
     "data": {
      "image/png": "[encoded data removed]",
      "text/plain": [
       "<Figure size 432x288 with 1 Axes>"
      ]
     },
     "metadata": {},
     "output_type": "display_data"
    }
   ],
   "source": [
    "data['HHINCOME_2'].hist(bins=50)"
   ]
  },
  {
   "cell_type": "code",
   "execution_count": 4,
   "id": "juvenile-panama",
   "metadata": {},
   "outputs": [
    {
     "data": {
      "image/png": "[encoded data removed]",
      "text/plain": [
       "<Figure size 720x432 with 1 Axes>"
      ]
     },
     "metadata": {},
     "output_type": "display_data"
    }
   ],
   "source": [
    "# Count the occurrence of each year in the 'YEAR_1' column\n",
    "year_counts = data['YEAR_1'].value_counts()\n",
    "\n",
    "# Sort the years for better visualization\n",
    "year_counts = year_counts.sort_index()\n",
    "\n",
    "# Create a bar chart\n",
    "plt.figure(figsize=(10,6))  # Optional: Adjust the figure size as needed\n",
    "plt.bar(year_counts.index, year_counts.values)\n",
    "\n",
    "# Adding labels and title\n",
    "plt.xlabel('Year')\n",
    "plt.ylabel('Count')\n",
    "plt.title('Bar Chart of YEAR_1')\n",
    "\n",
    "# Show the plot\n",
    "plt.show()"
   ]
  },
  {
   "cell_type": "code",
   "execution_count": 7,
   "id": "atmospheric-annex",
   "metadata": {},
   "outputs": [
    {
     "data": {
      "image/png": "[encoded data removed]",
      "text/plain": [
       "<Figure size 720x432 with 1 Axes>"
      ]
     },
     "metadata": {},
     "output_type": "display_data"
    }
   ],
   "source": [
    "# Count the occurrence of each year in the 'YEAR_1' column\n",
    "year_counts = data['YEAR_2'].value_counts()\n",
    "\n",
    "# Sort the years for better visualization\n",
    "year_counts = year_counts.sort_index()\n",
    "\n",
    "# Create a bar chart\n",
    "plt.figure(figsize=(10,6))  # Optional: Adjust the figure size as needed\n",
    "plt.bar(year_counts.index, year_counts.values)\n",
    "\n",
    "# Adding labels and title\n",
    "plt.xlabel('Year')\n",
    "plt.ylabel('Count')\n",
    "plt.title('Bar Chart of YEAR_2')\n",
    "\n",
    "# Show the plot\n",
    "plt.show()"
   ]
  }
 ],
 "metadata": {
  "kernelspec": {
   "display_name": "Python 3",
   "language": "python",
   "name": "python3"
  },
  "language_info": {
   "codemirror_mode": {
    "name": "ipython",
    "version": 3
   },
   "file_extension": ".py",
   "mimetype": "text/x-python",
   "name": "python",
   "nbconvert_exporter": "python",
   "pygments_lexer": "ipython3",
   "version": "3.8.3"
  }
 },
 "nbformat": 4,
 "nbformat_minor": 5
}
